{
 "cells": [
  {
   "cell_type": "markdown",
   "metadata": {},
   "source": [
    "# Behavioral Cloning"
   ]
  },
  {
   "cell_type": "markdown",
   "metadata": {},
   "source": [
    "## Construct the training data"
   ]
  },
  {
   "cell_type": "code",
   "execution_count": 1,
   "metadata": {
    "collapsed": false,
    "scrolled": true
   },
   "outputs": [
    {
     "name": "stderr",
     "output_type": "stream",
     "text": [
      "Using TensorFlow backend.\n",
      "/opt/anaconda3-TF-0.11.0/lib/python3.5/site-packages/ipykernel/__main__.py:98: UserWarning: The semantics of the Keras 2 argument `steps_per_epoch` is not the same as the Keras 1 argument `samples_per_epoch`. `steps_per_epoch` is the number of batches to draw from the generator at each epoch. Basically steps_per_epoch = samples_per_epoch/batch_size. Similarly `nb_val_samples`->`validation_steps` and `val_samples`->`steps` arguments have changed. Update your method calls accordingly.\n",
      "/opt/anaconda3-TF-0.11.0/lib/python3.5/site-packages/ipykernel/__main__.py:98: UserWarning: Update your `fit_generator` call to the Keras 2 API: `fit_generator(<generator..., epochs=10, validation_data=<generator..., steps_per_epoch=787, validation_steps=196, verbose=1)`\n"
     ]
    },
    {
     "name": "stdout",
     "output_type": "stream",
     "text": [
      "Epoch 1/10\n",
      "787/787 [==============================] - 187s - loss: 0.0545 - acc: 0.1608 - val_loss: 0.0413 - val_acc: 0.1640\n",
      "Epoch 2/10\n",
      "787/787 [==============================] - 182s - loss: 0.0391 - acc: 0.1609 - val_loss: 0.0382 - val_acc: 0.1637\n",
      "Epoch 3/10\n",
      "787/787 [==============================] - 182s - loss: 0.0353 - acc: 0.1612 - val_loss: 0.0338 - val_acc: 0.1638\n",
      "Epoch 4/10\n",
      "787/787 [==============================] - 181s - loss: 0.0330 - acc: 0.1610 - val_loss: 0.0321 - val_acc: 0.1637\n",
      "Epoch 5/10\n",
      "787/787 [==============================] - 183s - loss: 0.0316 - acc: 0.1608 - val_loss: 0.0319 - val_acc: 0.1637\n",
      "Epoch 6/10\n",
      "787/787 [==============================] - 183s - loss: 0.0309 - acc: 0.1615 - val_loss: 0.0308 - val_acc: 0.1637\n",
      "Epoch 7/10\n",
      "787/787 [==============================] - 188s - loss: 0.0302 - acc: 0.1611 - val_loss: 0.0316 - val_acc: 0.1637\n",
      "Epoch 8/10\n",
      "787/787 [==============================] - 189s - loss: 0.0298 - acc: 0.1607 - val_loss: 0.0310 - val_acc: 0.1639\n",
      "Epoch 9/10\n",
      "787/787 [==============================] - 189s - loss: 0.0293 - acc: 0.1613 - val_loss: 0.0301 - val_acc: 0.1641\n",
      "Epoch 10/10\n",
      "787/787 [==============================] - 186s - loss: 0.0287 - acc: 0.1609 - val_loss: 0.0299 - val_acc: 0.1641\n"
     ]
    },
    {
     "data": {
      "image/png": "[encoded data removed]",
      "text/plain": [
       "<matplotlib.figure.Figure at 0x7f54ddfafc50>"
      ]
     },
     "metadata": {},
     "output_type": "display_data"
    }
   ],
   "source": [
    "import pandas as pd\n",
    "import numpy as np\n",
    "import matplotlib.pyplot as plt\n",
    "import sklearn\n",
    "from sklearn.cross_validation import train_test_split\n",
    "import cv2 \n",
    "from keras.models import Sequential\n",
    "from keras.layers import Flatten, Dense, Lambda, Activation\n",
    "from keras.layers.convolutional import Conv2D, MaxPooling2D, Cropping2D\n",
    "from keras import regularizers\n",
    "\n",
    "Correction = 0.3\n",
    "\n",
    "#Method to construct the data(full path + measurement) given the folder paths\n",
    "def construct_data (img_path, driving_log_path):\n",
    "    driving_log = pd.read_csv(driving_log_path)\n",
    "    \n",
    "    center_image_path = [img_path + s.strip() for s in driving_log['center'].tolist()]\n",
    "    left_image_path = [img_path + s.strip() for s in driving_log['left'].tolist()]\n",
    "    right_image_path = [img_path + s.strip() for s in driving_log['right'].tolist()]\n",
    "\n",
    "    center_measurements = driving_log['steering'].tolist()\n",
    "    left_measurements = [ x + Correction  for x in center_measurements]\n",
    "    right_measurements = [ x - Correction  for x in center_measurements]\n",
    "    \n",
    "    images_path = center_image_path + left_image_path + right_image_path\n",
    "    measurements = center_measurements + left_measurements + right_measurements  \n",
    "    \n",
    "    return images_path, measurements\n",
    "\n",
    "def data_generator(samples, batch_size=64):\n",
    "    num_samples = len(samples)\n",
    "    \n",
    "    while True:\n",
    "        samples = sklearn.utils.shuffle(samples)\n",
    "               \n",
    "        for offset in range(0, num_samples, batch_size):\n",
    "            batch_samples = samples[offset:offset+batch_size]\n",
    "            \n",
    "            X_batch = []\n",
    "            y_batch = []\n",
    "            \n",
    "            for image_path, measurement, is_flipped in batch_samples:\n",
    "                image = cv2.cvtColor(cv2.imread(image_path.strip()), cv2.COLOR_BGR2RGB)\n",
    "                if is_flipped:\n",
    "                    image = cv2.flip(image,1) \n",
    "                X_batch.append(image)\n",
    "                y_batch.append(measurement)\n",
    "               \n",
    "            X_batch = np.array(X_batch)\n",
    "            y_batch = np.array(y_batch, dtype=np.float64)\n",
    "            yield sklearn.utils.shuffle(X_batch, y_batch)\n",
    "\n",
    "#NVidia model with regularization\n",
    "def nVidiaModel(l2_lambda = 0.0001):\n",
    "    model = Sequential()\n",
    "    model.add(Lambda(lambda x: ((x/255)-0.5), input_shape=(160,320,3)))\n",
    "    model.add(Cropping2D(cropping=((70,25), (0,0))))\n",
    "    \n",
    "    model.add(Conv2D(24,(5,5),strides=(2,2), activation='relu', kernel_regularizer=regularizers.l2(l2_lambda)))\n",
    "    model.add(Conv2D(36,(5,5),strides=(2,2), activation='relu', kernel_regularizer=regularizers.l2(l2_lambda)))\n",
    "    model.add(Conv2D(48,(5,5),strides=(2,2), activation='relu', kernel_regularizer=regularizers.l2(l2_lambda)))\n",
    "    model.add(Conv2D(64,(3,3), activation='relu', kernel_regularizer=regularizers.l2(l2_lambda)))\n",
    "    model.add(Conv2D(64,(3,3), activation='relu', kernel_regularizer=regularizers.l2(l2_lambda)))\n",
    "    \n",
    "    model.add(Flatten())\n",
    "    model.add(Dense(100, activation='elu', kernel_regularizer=regularizers.l2(l2_lambda)))\n",
    "    model.add(Dense(50, activation='elu', kernel_regularizer=regularizers.l2(l2_lambda)))\n",
    "    model.add(Dense(10, activation='elu', kernel_regularizer=regularizers.l2(l2_lambda)))\n",
    "    model.add(Dense(1))\n",
    "    return model\n",
    "\n",
    "\n",
    "#Construct data based on the data sets for Track 1 and Track 2\n",
    "images_path_1, measurements_1 = construct_data('./data/Track2CenterLane/', './data/Track2CenterLane/driving_log.csv')\n",
    "images_path_2, measurements_2 = construct_data('./data/', './data/driving_log.csv')\n",
    "\n",
    "\n",
    "images_path = images_path_1 + images_path_2\n",
    "measurements = measurements_1 + measurements_2\n",
    "flipped = [0] * len(measurements)\n",
    "\n",
    "#Flip augmentation. \n",
    "#Add a attribute to every record which would indicate if the image needs to be flipped while loading\n",
    "images_aug_paths = images_path\n",
    "measurements_aug = [ -x for x in measurements]\n",
    "flipped_aug = [1] * len(measurements_aug)\n",
    "\n",
    "final_images = images_path + images_aug_paths\n",
    "final_measurements = measurements + measurements_aug\n",
    "final_flipped = flipped + flipped_aug\n",
    "\n",
    "final_data = list(zip(final_images, final_measurements,final_flipped))\n",
    "#Split data into train and validation sets\n",
    "train_data, validation_data = train_test_split(final_data, test_size=0.2)\n",
    "           \n",
    "train_generator = data_generator(train_data, batch_size=64)\n",
    "validation_generator = data_generator(validation_data, batch_size=64)\n",
    "\n",
    "# Model creation\n",
    "model = nVidiaModel()\n",
    "\n",
    "# Compiling and training the model\n",
    "model.compile(loss='mse', optimizer='adam', metrics=['accuracy'])\n",
    "history_object = model.fit_generator(train_generator, samples_per_epoch= \\\n",
    "                 len(train_data)//64, validation_data=validation_generator, \\\n",
    "                 nb_val_samples=len(validation_data)//64, nb_epoch=10, verbose=1)\n",
    "\n",
    "model.save('model.h5')\n",
    "\n",
    "# \"Loss\"\n",
    "plt.plot(history_object.history['loss'])\n",
    "plt.plot(history_object.history['val_loss'])\n",
    "plt.title('model loss')\n",
    "plt.ylabel('loss')\n",
    "plt.xlabel('epoch')\n",
    "plt.legend(['train', 'validation'], loc='upper left')\n",
    "plt.show()\n",
    "\n"
   ]
  },
  {
   "cell_type": "code",
   "execution_count": null,
   "metadata": {
    "collapsed": true
   },
   "outputs": [],
   "source": [
    "\n"
   ]
  }
 ],
 "metadata": {
  "anaconda-cloud": {},
  "kernelspec": {
   "display_name": "Python [conda root]",
   "language": "python",
   "name": "conda-root-py"
  },
  "language_info": {
   "codemirror_mode": {
    "name": "ipython",
    "version": 3
   },
   "file_extension": ".py",
   "mimetype": "text/x-python",
   "name": "python",
   "nbconvert_exporter": "python",
   "pygments_lexer": "ipython3",
   "version": "3.5.2"
  }
 },
 "nbformat": 4,
 "nbformat_minor": 1
}
